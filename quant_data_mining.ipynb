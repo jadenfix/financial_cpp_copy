{
  "cells": [
    {
      "cell_type": "markdown",
      "metadata": {
        "colab_type": "text",
        "id": "view-in-github"
      },
      "source": [
        "<a href=\"https://colab.research.google.com/github/jadenfix/financial_cpp/blob/main/quant_data_mining.ipynb\" target=\"_parent\"><img src=\"https://colab.research.google.com/assets/colab-badge.svg\" alt=\"Open In Colab\"/></a>"
      ]
    },
    {
      "cell_type": "markdown",
      "metadata": {
        "id": "8Ykpc4W8E4zR"
      },
      "source": [
        "# # Financial Data Fetching Notebook\n",
        "# Inspired by the blog post: [Free Finance Datasets for Quants](https://dm13450.github.io/2023/11/25/Free-Finance-Datasets-for-Quants.html)"
      ]
    },
    {
      "cell_type": "code",
      "execution_count": 39,
      "metadata": {
        "id": "mMD--jU9E5Ed"
      },
      "outputs": [],
      "source": [
        "!pip install yfinance pandas pandas-datareader matplotlib sec-edgar-downloader requests --upgrade --quiet\n"
      ]
    },
    {
      "cell_type": "markdown",
      "metadata": {
        "id": "qdQh5-qdE5RN"
      },
      "source": [
        "# Import all necessary libraries for the script.\n"
      ]
    },
    {
      "cell_type": "code",
      "execution_count": 40,
      "metadata": {
        "id": "k8aOBiR8E5mk"
      },
      "outputs": [],
      "source": [
        "import yfinance as yf\n",
        "import pandas as pd\n",
        "import pandas_datareader.data as web\n",
        "import datetime\n",
        "import matplotlib.pyplot as plt\n",
        "import os\n",
        "from sec_edgar_downloader import Downloader\n",
        "import requests # For direct API calls (e.g., Alpha Vantage)\n",
        "import warnings\n",
        "from google.colab import userdata # For Colab Secrets\n"
      ]
    },
    {
      "cell_type": "markdown",
      "metadata": {
        "id": "waPJspUwE5zm"
      },
      "source": [
        "load in data"
      ]
    },
    {
      "cell_type": "code",
      "execution_count": 41,
      "metadata": {
        "colab": {
          "base_uri": "https://localhost:8080/"
        },
        "id": "0j8DigL0E6B7",
        "outputId": "4d2e85a8-d5fb-43fb-b5ce-73e0d92af09f"
      },
      "outputs": [
        {
          "name": "stdout",
          "output_type": "stream",
          "text": [
            "✅ Alpha Vantage API Key loaded from Colab Secrets.\n"
          ]
        }
      ],
      "source": [
        "try:\n",
        "    # Recommended: Fetch from Colab Secrets\n",
        "    ALPHA_VANTAGE_API_KEY = userdata.get('ALPHA_VANTAGE_API_KEY')\n",
        "    if not ALPHA_VANTAGE_API_KEY: raise KeyError # Treat empty secret same as missing\n",
        "    print(\"✅ Alpha Vantage API Key loaded from Colab Secrets.\")\n",
        "except KeyError:\n",
        "    # Fallback if secret not set\n",
        "    print(\"⚠️ Alpha Vantage API Key not found in Colab Secrets.\")\n",
        "    print(\"   Add a secret named 'ALPHA_VANTAGE_API_KEY' (key icon 🔑 left sidebar).\")\n",
        "    print(\"   Get a free key from: https://www.alphavantage.co/support/#api-key\")\n",
        "    print(\"   Using a placeholder - Alpha Vantage fetch will likely fail.\")\n",
        "    ALPHA_VANTAGE_API_KEY = \"YOUR_API_KEY_PLACEHOLDER\" # << REPLACE if not using Secrets\n"
      ]
    },
    {
      "cell_type": "markdown",
      "metadata": {
        "id": "MRYgGjr9E6N5"
      },
      "source": [
        "paths"
      ]
    },
    {
      "cell_type": "code",
      "execution_count": 42,
      "metadata": {
        "id": "FKqzR3rjE6ou"
      },
      "outputs": [],
      "source": [
        "ALPHA_DOWNLOAD_PATH = \"/content/alpha_vantage_data\""
      ]
    },
    {
      "cell_type": "markdown",
      "metadata": {
        "id": "tF6aJldvHL_9"
      },
      "source": [
        "dates"
      ]
    },
    {
      "cell_type": "code",
      "execution_count": 43,
      "metadata": {
        "id": "hgcivuqRHMOQ"
      },
      "outputs": [],
      "source": [
        "start_date = datetime.datetime(2024, 1, 1)\n",
        "end_date = datetime.datetime(2025, 4, 30)"
      ]
    },
    {
      "cell_type": "markdown",
      "metadata": {
        "id": "vuhidQ1QH626"
      },
      "source": []
    },
    {
      "cell_type": "code",
      "execution_count": 43,
      "metadata": {
        "id": "kjh24cHlJBiI"
      },
      "outputs": [],
      "source": []
    },
    {
      "cell_type": "code",
      "execution_count": 44,
      "metadata": {
        "id": "BCtg5iIoH6Fw"
      },
      "outputs": [],
      "source": [
        "\n",
        "def fetch_alpha_vantage_intraday_data(symbol, interval='5min', outputsize='compact', api_key=None):\n",
        "    \"\"\"\n",
        "    Fetches intraday (minute-level) stock data from Alpha Vantage.\n",
        "\n",
        "    Args:\n",
        "        symbol (str): The stock ticker symbol (e.g., 'IBM', 'GOOGL').\n",
        "        interval (str): The time interval between data points.\n",
        "                        Valid values: '1min', '5min', '15min', '30min', '60min'.\n",
        "        outputsize (str): 'compact' returns the latest 100 data points.\n",
        "                          'full' returns up to 2 years of historical data for premium members,\n",
        "                          limited history for free tier (typically 1-2 days).\n",
        "        api_key (str): Your Alpha Vantage API key.\n",
        "\n",
        "    Returns:\n",
        "        pandas.DataFrame: DataFrame containing the intraday data, or None if an error occurs.\n",
        "    \"\"\"\n",
        "    print(f\"\\n--- Fetching Alpha Vantage {interval} data for {symbol} ({outputsize}) ---\")\n",
        "\n",
        "    # Validate API Key\n",
        "    if not api_key or api_key == \"YOUR_API_KEY_PLACEHOLDER\":\n",
        "        print(\"❌ Error: Alpha Vantage API key not provided or is placeholder.\")\n",
        "        print(\"   Configure 'ALPHA_VANTAGE_API_KEY' in Colab Secrets or the config cell.\")\n",
        "        return None\n",
        "\n",
        "    # Validate interval\n",
        "    valid_intervals = ['1min', '5min', '15min', '30min', '60min']\n",
        "    if interval not in valid_intervals:\n",
        "        print(f\"❌ Error: Invalid interval '{interval}'. Choose from: {valid_intervals}\")\n",
        "        return None\n",
        "\n",
        "    # Construct the API URL\n",
        "    # Documentation: https://www.alphavantage.co/documentation/#intraday\n",
        "    url = (\n",
        "        f'https://www.alphavantage.co/query?'\n",
        "        f'function=TIME_SERIES_INTRADAY'\n",
        "        f'&symbol={symbol}'\n",
        "        f'&interval={interval}'\n",
        "        f'&outputsize={outputsize}'\n",
        "        f'&apikey={api_key}'\n",
        "        # '&adjusted=true' # Default is true, uncomment to be explicit\n",
        "        # '&extended_hours=true' # Default is true, uncomment to be explicit\n",
        "    )\n",
        "\n",
        "    try:\n",
        "        response = requests.get(url)\n",
        "        response.raise_for_status()  # Raise HTTPError for bad responses (4xx or 5xx)\n",
        "        data = response.json()\n",
        "\n",
        "        # --- Check for API Errors or Notes ---\n",
        "        if \"Error Message\" in data:\n",
        "            print(f\"❌ Alpha Vantage API Error: {data['Error Message']}\")\n",
        "            return None\n",
        "        if \"Note\" in data:\n",
        "            print(f\"ℹ️ Alpha Vantage API Note: {data['Note']}\")\n",
        "            # Often indicates free tier limit reached, but data might still be present\n",
        "\n",
        "        # --- Process Data ---\n",
        "        # The key in the JSON response is dynamic based on the interval\n",
        "        time_series_key = f\"Time Series ({interval})\"\n",
        "\n",
        "        if time_series_key in data:\n",
        "            # Convert the nested dictionary to a Pandas DataFrame\n",
        "            df = pd.DataFrame.from_dict(data[time_series_key], orient='index')\n",
        "            df.index = pd.to_datetime(df.index) # Convert index to datetime\n",
        "            df = df.astype(float) # Convert columns to numeric\n",
        "\n",
        "            # Rename columns ('1. open' -> 'open', '4. close' -> 'close', etc.)\n",
        "            df.rename(columns=lambda x: x.split('. ')[1].replace(' ', '_'), inplace=True)\n",
        "            df.sort_index(inplace=True) # Ensure chronological order\n",
        "\n",
        "            print(f\"✅ Successfully fetched {len(df)} data points from Alpha Vantage.\")\n",
        "            print(df.head()) # Print first few rows\n",
        "\n",
        "            # --- Simple Plot ---\n",
        "            plt.figure(figsize=(12, 5)) # Create a new figure\n",
        "            df['close'].plot(title=f'{symbol} Close Price ({interval} - Alpha Vantage)')\n",
        "            plt.ylabel('Price')\n",
        "            plt.xlabel('Time')\n",
        "            plt.grid(True)\n",
        "            # plt.show() # Display plot immediately if needed, otherwise wait for cell end\n",
        "\n",
        "            return df\n",
        "        else:\n",
        "            print(f\"❌ Could not find '{time_series_key}' in Alpha Vantage response.\")\n",
        "            print(\"   Check symbol, API key, and API limits.\")\n",
        "            print(\"   Response received:\", data) # Print response for debugging\n",
        "            return None\n",
        "\n",
        "    except requests.exceptions.RequestException as e:\n",
        "        print(f\"❌ Network error fetching Alpha Vantage data: {e}\")\n",
        "        return None\n",
        "    except Exception as e:\n",
        "        print(f\"❌ Error processing Alpha Vantage data: {e}\")\n",
        "        return None"
      ]
    },
    {
      "cell_type": "markdown",
      "metadata": {
        "id": "LsGhqfRWJVMd"
      },
      "source": []
    },
    {
      "cell_type": "code",
      "execution_count": 58,
      "metadata": {
        "colab": {
          "base_uri": "https://localhost:8080/"
        },
        "id": "s1zTpvf8JVbG",
        "outputId": "3f91abf9-0d0b-4bc0-d379-604ec8b1c547"
      },
      "outputs": [
        {
          "name": "stdout",
          "output_type": "stream",
          "text": [
            "--- Starting Intraday Data Fetching (2025-05-01 06:15:37.600419) ---\n"
          ]
        }
      ],
      "source": [
        "ticker_symbol = 'APPL'   # Example: IBM, try others like 'GOOGL', 'MSFT', 'NVDA'\n",
        "data_interval = '1min' # Options: '1min', '5min', '15min', '30min', '60min'\n",
        "data_outputsize = 'full' # 'compact' (last 100 points) or 'full' (more history, subject to limits)\n",
        "print(f\"--- Starting Intraday Data Fetching ({datetime.datetime.now()}) ---\")\n"
      ]
    },
    {
      "cell_type": "markdown",
      "metadata": {
        "id": "0zPHn-AfJZgt"
      },
      "source": [
        "fetch data"
      ]
    },
    {
      "cell_type": "code",
      "execution_count": 59,
      "metadata": {
        "colab": {
          "base_uri": "https://localhost:8080/"
        },
        "id": "FH0wLNN2JedV",
        "outputId": "7399e705-7b84-408a-f1db-cc54b7336c4e"
      },
      "outputs": [
        {
          "name": "stdout",
          "output_type": "stream",
          "text": [
            "\n",
            "--- Fetching Alpha Vantage 1min data for APPL (full) ---\n",
            "❌ Alpha Vantage API Error: Invalid API call. Please retry or visit the documentation (https://www.alphavantage.co/documentation/) for TIME_SERIES_INTRADAY.\n",
            "\n",
            "--- Data Fetching Failed ---\n"
          ]
        }
      ],
      "source": [
        "APPL_data = fetch_alpha_vantage_intraday_data(\n",
        "    symbol=ticker_symbol,\n",
        "    interval=data_interval,\n",
        "    outputsize=data_outputsize,\n",
        "    api_key=ALPHA_VANTAGE_API_KEY\n",
        ")\n",
        "\n",
        "# --- Display Plot ---\n",
        "if APPL_data is not None:\n",
        "    print(\"\\n--- Displaying Generated Plot ---\")\n",
        "    plt.tight_layout()\n",
        "    plt.show() # Display the plot created by the function\n",
        "    print(\"\\n--- Data Fetching and Plotting Complete ---\")\n",
        "else:\n",
        "    print(\"\\n--- Data Fetching Failed ---\")"
      ]
    },
    {
      "cell_type": "markdown",
      "metadata": {
        "id": "UK7OTPmNJwyT"
      },
      "source": [
        "save to GD"
      ]
    },
    {
      "cell_type": "code",
      "execution_count": 57,
      "metadata": {
        "id": "elA1dlUUOnjd"
      },
      "outputs": [],
      "source": [
        "import os\n",
        "os.makedirs('/content/drive/MyDrive/quant data', exist_ok=True)\n",
        "APPL_data.to_csv('/content/drive/MyDrive/quant data/APPL_data.csv', index=True)"
      ]
    },
    {
      "cell_type": "code",
      "execution_count": null,
      "metadata": {
        "id": "YAgMjR8ZOnYR"
      },
      "outputs": [],
      "source": []
    }
  ],
  "metadata": {
    "colab": {
      "authorship_tag": "ABX9TyNuTdWWiFozNhAjlVnF5Raz",
      "include_colab_link": true,
      "provenance": []
    },
    "kernelspec": {
      "display_name": "Python 3",
      "name": "python3"
    },
    "language_info": {
      "name": "python"
    }
  },
  "nbformat": 4,
  "nbformat_minor": 0
}
